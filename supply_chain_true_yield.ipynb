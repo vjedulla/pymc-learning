{
 "cells": [
  {
   "cell_type": "code",
   "execution_count": null,
   "id": "c0f3dcd7",
   "metadata": {
    "ExecuteTime": {
     "end_time": "2022-06-14T09:52:39.969962Z",
     "start_time": "2022-06-14T09:52:39.954972Z"
    }
   },
   "outputs": [],
   "source": [
    "import pymc3 as pm\n",
    "import theano.tensor as tt\n",
    "import pandas as pd\n",
    "import numpy as np\n",
    "from scipy import stats\n",
    "import seaborn as sns\n",
    "import arviz as az\n",
    "import matplotlib.pyplot as plt\n",
    "from IPython.display import set_matplotlib_formats\n",
    "\n",
    "%config InlineBackend.figure_formats = ['retina']\n",
    "\n",
    "np.random.seed(100)"
   ]
  },
  {
   "cell_type": "code",
   "execution_count": null,
   "id": "ac458000",
   "metadata": {
    "ExecuteTime": {
     "end_time": "2022-06-14T09:52:54.954352Z",
     "start_time": "2022-06-14T09:52:54.950654Z"
    }
   },
   "outputs": [],
   "source": [
    "sup_yield      = [.9, .5, .8] # unkown in the real world\n",
    "sup_yield_sd   = [.1, .2, .2] # unkown in the real world\n",
    "prices         = [220, 100, 120] # known\n",
    "max_order_size = [100, 80, 100] # known\n",
    "\n",
    "n_obs_sup      = [30, 20, 2] # #times we have ordered from each supplier"
   ]
  },
  {
   "cell_type": "code",
   "execution_count": null,
   "id": "fda76783",
   "metadata": {
    "ExecuteTime": {
     "end_time": "2022-06-14T09:54:20.238416Z",
     "start_time": "2022-06-14T09:54:20.214589Z"
    }
   },
   "outputs": [],
   "source": [
    "data = []\n",
    "for sy, sy_sd, obs in zip(sup_yield, sup_yield_sd, n_obs_sup):\n",
    "    data.append(\n",
    "        pm.Beta.dist(mu=sy, sd=sy_sd, shape=obs).random()\n",
    "    )\n",
    "data"
   ]
  },
  {
   "cell_type": "code",
   "execution_count": null,
   "id": "e64bd850",
   "metadata": {
    "ExecuteTime": {
     "end_time": "2022-06-14T09:57:29.465592Z",
     "start_time": "2022-06-14T09:57:29.082378Z"
    }
   },
   "outputs": [],
   "source": [
    "df = pd.DataFrame(data).T\n",
    "df = df.unstack().to_frame('yield')\n",
    "df.index = df.index.set_names(['supplier', 'obs'])\n",
    "g = sns.FacetGrid(data=df.reset_index().dropna(), col='supplier')\n",
    "g.map(sns.histplot, 'yield', kde=False)"
   ]
  },
  {
   "cell_type": "code",
   "execution_count": null,
   "id": "4e69f1f3",
   "metadata": {
    "ExecuteTime": {
     "end_time": "2022-06-14T10:00:22.223565Z",
     "start_time": "2022-06-14T10:00:22.220616Z"
    }
   },
   "outputs": [],
   "source": [
    "sales_price   = 500\n",
    "holding_cost = 100 # storage"
   ]
  },
  {
   "cell_type": "code",
   "execution_count": null,
   "id": "6026376e",
   "metadata": {
    "ExecuteTime": {
     "end_time": "2022-06-14T10:02:49.839729Z",
     "start_time": "2022-06-14T10:02:49.835282Z"
    }
   },
   "outputs": [],
   "source": [
    "@np.vectorize\n",
    "def loss(in_stock, demand, buy_price, \n",
    "         sales_price=sales_price, holding_cost=holding_cost):\n",
    "    # how much do we earn per lunch\n",
    "    margin = sales_price - buy_price\n",
    "    \n",
    "    # do we have more in stock than demanded?\n",
    "    if in_stock > demand:\n",
    "        total_profit = demand * margin\n",
    "        \n",
    "        # everything else goes to holding\n",
    "        total_holding_cost = (in_stock - demand) * holding_cost\n",
    "        \n",
    "        reward = total_profit - total_holding_cost\n",
    "    else:\n",
    "        reward = in_stock * margin\n",
    "        \n",
    "    # we minimize\n",
    "    return (-1) * reward"
   ]
  },
  {
   "cell_type": "code",
   "execution_count": null,
   "id": "e00fd341",
   "metadata": {
    "ExecuteTime": {
     "end_time": "2022-06-14T10:05:48.292561Z",
     "start_time": "2022-06-14T10:05:48.093016Z"
    }
   },
   "outputs": [],
   "source": [
    "plt.figure(figsize=(16, 8))\n",
    "in_stock = np.linspace(0, 100, 200)\n",
    "plt.plot(in_stock, -loss(in_stock, 50, 50), lw=5)\n",
    "plt.axvline(50, c='k', ls='--', label='assumed demand')\n",
    "plt.xlabel('in stock')\n",
    "plt.ylabel('profit (neg loss)')\n",
    "sns.despine()\n",
    "plt.legend();"
   ]
  },
  {
   "cell_type": "code",
   "execution_count": null,
   "id": "227e8b07",
   "metadata": {
    "ExecuteTime": {
     "end_time": "2022-06-14T10:07:11.027231Z",
     "start_time": "2022-06-14T10:07:10.781136Z"
    }
   },
   "outputs": [],
   "source": [
    "demand_samples = stats.poisson(60, 40).rvs(1000)\n",
    "sns.displot(demand_samples, kde=True)"
   ]
  },
  {
   "cell_type": "code",
   "execution_count": null,
   "id": "c2993dc6",
   "metadata": {
    "ExecuteTime": {
     "end_time": "2022-06-14T10:09:29.977886Z",
     "start_time": "2022-06-14T10:09:29.774195Z"
    }
   },
   "outputs": [],
   "source": [
    "plt.figure(figsize=(16, 8))\n",
    "plt.scatter(demand_samples, -loss(100, demand_samples, buy_price=10), s=20)\n",
    "plt.axvline(100, c='k', ls='--', label='assumed in_stock')\n",
    "plt.xlabel('demand')\n",
    "plt.ylabel('profit (neg loss)')\n",
    "sns.despine()\n",
    "plt.legend();"
   ]
  },
  {
   "cell_type": "markdown",
   "id": "1507ebbd",
   "metadata": {},
   "source": [
    "## PyMC model"
   ]
  },
  {
   "cell_type": "code",
   "execution_count": null,
   "id": "82eb4a98",
   "metadata": {
    "ExecuteTime": {
     "end_time": "2022-06-14T10:11:51.470522Z",
     "start_time": "2022-06-14T10:11:51.465240Z"
    }
   },
   "outputs": [],
   "source": [
    "data"
   ]
  },
  {
   "cell_type": "code",
   "execution_count": null,
   "id": "8f4bf1e2",
   "metadata": {
    "ExecuteTime": {
     "end_time": "2022-06-14T10:14:07.645122Z",
     "start_time": "2022-06-14T10:12:56.413806Z"
    }
   },
   "outputs": [],
   "source": [
    "with pm.Model() as model:\n",
    "    # priors for each supplier\n",
    "    a = pm.HalfNormal('alfa', sd=10., shape=3) + 1\n",
    "    b = pm.HalfNormal('beta', sd=10., shape=3) + 1\n",
    "    \n",
    "    # different likelehood for each supplier\n",
    "    # because we have different n_obs\n",
    "    for i, d in enumerate(data):\n",
    "        pm.Beta(f\"supplier_yield_obs_{i}\", \n",
    "                   alpha=a[i], beta=b[i],\n",
    "                   observed=d\n",
    "               )\n",
    "        \n",
    "    trace = pm.sample(1000, return_inferencedata=True)"
   ]
  },
  {
   "cell_type": "code",
   "execution_count": null,
   "id": "6e276431",
   "metadata": {
    "ExecuteTime": {
     "end_time": "2022-06-14T10:15:12.771827Z",
     "start_time": "2022-06-14T10:15:11.731299Z"
    }
   },
   "outputs": [],
   "source": [
    "# test convergence\n",
    "az.plot_energy(trace)"
   ]
  },
  {
   "cell_type": "markdown",
   "id": "a11f89f8",
   "metadata": {},
   "source": [
    "Generate future scenarios"
   ]
  },
  {
   "cell_type": "code",
   "execution_count": null,
   "id": "eb21e0a7",
   "metadata": {
    "ExecuteTime": {
     "end_time": "2022-06-14T10:15:47.318849Z",
     "start_time": "2022-06-14T10:15:43.917784Z"
    }
   },
   "outputs": [],
   "source": [
    "with model:\n",
    "    post_pred = pm.sample_posterior_predictive(trace, 1000)"
   ]
  },
  {
   "cell_type": "code",
   "execution_count": null,
   "id": "248000ad",
   "metadata": {
    "ExecuteTime": {
     "end_time": "2022-06-14T10:44:07.578164Z",
     "start_time": "2022-06-14T10:44:07.097123Z"
    }
   },
   "outputs": [],
   "source": [
    "sup_yield_post = pd.DataFrame({\n",
    "    k: v[:, 1] for k, v in post_pred.items()\n",
    "})\n",
    "sup_yield_post_tidy = sup_yield_post.unstack().to_frame('yield')\n",
    "sup_yield_post_tidy.index = sup_yield_post_tidy.index.set_names(['supplier', 'obs'])\n",
    "g = sns.FacetGrid(data=sup_yield_post_tidy.reset_index().dropna(), col='supplier')\n",
    "g.map(sns.histplot, 'yield', kde=False)"
   ]
  },
  {
   "cell_type": "code",
   "execution_count": null,
   "id": "18a05801",
   "metadata": {
    "ExecuteTime": {
     "end_time": "2022-06-14T10:44:09.837587Z",
     "start_time": "2022-06-14T10:44:09.831466Z"
    }
   },
   "outputs": [],
   "source": [
    "def calc_yield_and_price(orders, \n",
    "                        in_sup_yield=np.array([.9, .5, .8]),\n",
    "                        prices=prices\n",
    "                        ):\n",
    "    orders = np.asarray(orders)\n",
    "    \n",
    "    full_yield = np.sum(in_sup_yield * orders)\n",
    "    prices_per_item = np.sum(orders * prices) / np.sum(orders)\n",
    "    \n",
    "    return full_yield, prices_per_item\n",
    "\n",
    "calc_yield_and_price([100, 60, 60])"
   ]
  },
  {
   "cell_type": "code",
   "execution_count": null,
   "id": "70a6550e",
   "metadata": {
    "ExecuteTime": {
     "end_time": "2022-06-14T11:44:41.961654Z",
     "start_time": "2022-06-14T11:44:41.956331Z"
    }
   },
   "outputs": [],
   "source": [
    "def objective(orders,\n",
    "              in_sup_yield=sup_yield_post,\n",
    "              demand_sample=demand_samples,\n",
    "              max_order_size=max_order_size):\n",
    "        \n",
    "    orders = np.asarray(orders)\n",
    "    losses = []\n",
    "    \n",
    "    # negative orders impossible\n",
    "    if np.any(orders < 0):\n",
    "        return np.inf\n",
    "    \n",
    "    # ordering more than the supplier can ship impossible\n",
    "    if np.any(orders > max_order_size):\n",
    "        return np.inf\n",
    "\n",
    "    for i, sy in in_sup_yield.iterrows():   \n",
    "        full_yield, pp_item = calc_yield_and_price(\n",
    "            orders,\n",
    "            in_sup_yield=sy\n",
    "        )\n",
    "        \n",
    "        # evaluate loss over each sample with one from the demand\n",
    "        # distribution\n",
    "        loss_i = loss(full_yield, demand_samples[i], pp_item)\n",
    "        \n",
    "        losses.append(loss_i)\n",
    "        \n",
    "    return np.array(losses)"
   ]
  },
  {
   "cell_type": "code",
   "execution_count": null,
   "id": "3ea31e61",
   "metadata": {
    "ExecuteTime": {
     "end_time": "2022-06-14T11:44:42.813850Z",
     "start_time": "2022-06-14T11:44:42.811017Z"
    }
   },
   "outputs": [],
   "source": [
    "from scipy import optimize"
   ]
  },
  {
   "cell_type": "code",
   "execution_count": null,
   "id": "110bb2a5",
   "metadata": {
    "ExecuteTime": {
     "end_time": "2022-06-14T11:44:43.950447Z",
     "start_time": "2022-06-14T11:44:43.947299Z"
    }
   },
   "outputs": [],
   "source": [
    "bounds = [(0, max_order) for max_order in max_order_size]\n",
    "start_value = [50, 50, 50]"
   ]
  },
  {
   "cell_type": "code",
   "execution_count": null,
   "id": "550e8d8a",
   "metadata": {
    "ExecuteTime": {
     "end_time": "2022-06-14T11:45:12.730645Z",
     "start_time": "2022-06-14T11:44:45.520982Z"
    }
   },
   "outputs": [],
   "source": [
    "opt = optimize.minimize(lambda *args: np.mean(objective(*args)),\n",
    "                           start_value,\n",
    "                           bounds=bounds\n",
    "                       )"
   ]
  },
  {
   "cell_type": "code",
   "execution_count": null,
   "id": "46f28973",
   "metadata": {
    "ExecuteTime": {
     "end_time": "2022-06-14T11:45:12.737066Z",
     "start_time": "2022-06-14T11:45:12.732690Z"
    }
   },
   "outputs": [],
   "source": [
    "# optimal order\n",
    "np.ceil(opt.x)"
   ]
  },
  {
   "cell_type": "code",
   "execution_count": null,
   "id": "1655f658",
   "metadata": {},
   "outputs": [],
   "source": []
  },
  {
   "cell_type": "markdown",
   "id": "35505b92",
   "metadata": {},
   "source": [
    "Evaluation"
   ]
  },
  {
   "cell_type": "code",
   "execution_count": null,
   "id": "acb7482f",
   "metadata": {
    "ExecuteTime": {
     "end_time": "2022-06-14T11:45:16.817617Z",
     "start_time": "2022-06-14T11:45:16.809429Z"
    }
   },
   "outputs": [],
   "source": [
    "supplier_yield_mean = pd.DataFrame([np.mean(d) for d in data]).T\n",
    "supplier_yield_mean"
   ]
  },
  {
   "cell_type": "code",
   "execution_count": null,
   "id": "41dae592",
   "metadata": {
    "ExecuteTime": {
     "end_time": "2022-06-14T11:45:17.715200Z",
     "start_time": "2022-06-14T11:45:17.709952Z"
    }
   },
   "outputs": [],
   "source": [
    " objective(start_value, in_sup_yield=supplier_yield_mean,\n",
    "              demand_sample=[100])"
   ]
  },
  {
   "cell_type": "code",
   "execution_count": null,
   "id": "4220c6b7",
   "metadata": {
    "ExecuteTime": {
     "end_time": "2022-06-14T11:45:31.819740Z",
     "start_time": "2022-06-14T11:45:31.694161Z"
    }
   },
   "outputs": [],
   "source": [
    "opt_non_stoch = optimize.minimize(lambda *args: \n",
    "    objective(*args, in_sup_yield=supplier_yield_mean,\n",
    "              demand_sample=[100]),\n",
    "                           start_value,\n",
    "                           bounds=bounds\n",
    "                       )"
   ]
  },
  {
   "cell_type": "code",
   "execution_count": null,
   "id": "64215166",
   "metadata": {
    "ExecuteTime": {
     "end_time": "2022-06-14T11:45:33.182037Z",
     "start_time": "2022-06-14T11:45:33.177416Z"
    }
   },
   "outputs": [],
   "source": [
    "np.ceil(opt_non_stoch.x)"
   ]
  },
  {
   "cell_type": "code",
   "execution_count": null,
   "id": "ff6cc845",
   "metadata": {},
   "outputs": [],
   "source": []
  },
  {
   "cell_type": "code",
   "execution_count": null,
   "id": "978f42eb",
   "metadata": {
    "ExecuteTime": {
     "end_time": "2022-06-14T11:47:28.148956Z",
     "start_time": "2022-06-14T11:47:28.021785Z"
    }
   },
   "outputs": [],
   "source": [
    "np.random.seed(123)\n",
    "\n",
    "data_new = []\n",
    "\n",
    "for sy, sy_sd, obs in zip(sup_yield, sup_yield_sd, n_obs_sup):\n",
    "    data_new.append(\n",
    "        pm.Beta.dist(mu=sy, sd=sy_sd, shape=1000).random()\n",
    "    )\n",
    "    \n",
    "data_new = pd.DataFrame(data_new).T\n",
    "data_new.head().add_prefix('Supplier ')"
   ]
  },
  {
   "cell_type": "code",
   "execution_count": null,
   "id": "4d31764d",
   "metadata": {
    "ExecuteTime": {
     "end_time": "2022-06-14T11:51:06.563911Z",
     "start_time": "2022-06-14T11:51:05.801717Z"
    }
   },
   "outputs": [],
   "source": [
    "neg_loss_stoch = -objective(opt.x, in_sup_yield=data_new) / demand_samples\n",
    "neg_loss_non_stoch = -objective(opt_non_stoch.x, in_sup_yield=data_new) / demand_samples\n",
    "\n",
    "ax = sns.histplot(neg_loss_stoch, label='stochastic', kde=False)\n",
    "plt.axvline(np.mean(neg_loss_stoch), label='expected stochastic')\n",
    "\n",
    "\n",
    "sns.histplot(neg_loss_non_stoch, label='non stochastic', color='orange', kde=False, ax=ax)\n",
    "plt.axvline(np.mean(neg_loss_non_stoch), label='expected non-stochastic', color='orange')\n",
    "\n",
    "plt.legend()\n",
    "\n",
    "plt.xlabel('Profit (negative loss)')\n",
    "plt.ylabel('Occurances');"
   ]
  },
  {
   "cell_type": "code",
   "execution_count": null,
   "id": "8b3a18e3",
   "metadata": {},
   "outputs": [],
   "source": []
  },
  {
   "cell_type": "code",
   "execution_count": null,
   "id": "37901aff",
   "metadata": {},
   "outputs": [],
   "source": []
  },
  {
   "cell_type": "code",
   "execution_count": null,
   "id": "732df709",
   "metadata": {},
   "outputs": [],
   "source": []
  },
  {
   "cell_type": "code",
   "execution_count": null,
   "id": "92cfd077",
   "metadata": {},
   "outputs": [],
   "source": []
  },
  {
   "cell_type": "code",
   "execution_count": null,
   "id": "4a5eb04b",
   "metadata": {},
   "outputs": [],
   "source": []
  },
  {
   "cell_type": "code",
   "execution_count": null,
   "id": "032fd0d0",
   "metadata": {},
   "outputs": [],
   "source": []
  },
  {
   "cell_type": "code",
   "execution_count": null,
   "id": "c00842bc",
   "metadata": {},
   "outputs": [],
   "source": []
  },
  {
   "cell_type": "code",
   "execution_count": null,
   "id": "2f34e6b9",
   "metadata": {},
   "outputs": [],
   "source": []
  }
 ],
 "metadata": {
  "kernelspec": {
   "display_name": "Python 3 (ipykernel)",
   "language": "python",
   "name": "python3"
  },
  "language_info": {
   "codemirror_mode": {
    "name": "ipython",
    "version": 3
   },
   "file_extension": ".py",
   "mimetype": "text/x-python",
   "name": "python",
   "nbconvert_exporter": "python",
   "pygments_lexer": "ipython3",
   "version": "3.7.7"
  }
 },
 "nbformat": 4,
 "nbformat_minor": 5
}
