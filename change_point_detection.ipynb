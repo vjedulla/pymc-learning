{
 "cells": [
  {
   "cell_type": "code",
   "execution_count": null,
   "id": "41377e81",
   "metadata": {
    "ExecuteTime": {
     "end_time": "2022-04-16T08:12:55.067850Z",
     "start_time": "2022-04-16T08:12:55.064538Z"
    }
   },
   "outputs": [],
   "source": [
    "import pomegranate as pg\n",
    "import pymc3 as pm\n",
    "import pandas as pd\n",
    "import numpy as np\n",
    "import matplotlib.pyplot as plt\n",
    "import theano.tensor as T"
   ]
  },
  {
   "cell_type": "code",
   "execution_count": null,
   "id": "fc8d4050",
   "metadata": {
    "ExecuteTime": {
     "end_time": "2022-04-16T09:08:56.829954Z",
     "start_time": "2022-04-16T09:08:56.825784Z"
    }
   },
   "outputs": [],
   "source": [
    "signal = np.concatenate([\n",
    "   np.full((50,), 1.0), \n",
    "   np.full((50,), 2.0), \n",
    "   np.full((50,), 3.0)\n",
    "])\n",
    "\n",
    "growth = np.abs(np.gradient(signal))\n",
    "growth = growth / np.sum(growth) #normalize"
   ]
  },
  {
   "cell_type": "code",
   "execution_count": null,
   "id": "87ba35fe",
   "metadata": {
    "ExecuteTime": {
     "end_time": "2022-04-17T09:01:24.415363Z",
     "start_time": "2022-04-17T09:01:24.296147Z"
    }
   },
   "outputs": [],
   "source": [
    "signal = np.concatenate([\n",
    "    np.sin(np.linspace(0, 100*np.pi, 1000)),\n",
    "    np.sin(np.linspace(100*np.pi, 200*np.pi, 1000)) + 10,\n",
    "    np.sin(np.linspace(100*np.pi, 200*np.pi, 1000)) + 3,\n",
    "])\n",
    "\n",
    "growth = np.abs(np.gradient(signal))\n",
    "growth = growth / np.sum(growth) #normalize\n",
    "plt.plot(signal)"
   ]
  },
  {
   "cell_type": "code",
   "execution_count": null,
   "id": "93bd1290",
   "metadata": {
    "ExecuteTime": {
     "end_time": "2022-04-17T09:01:27.662819Z",
     "start_time": "2022-04-17T09:01:27.551670Z"
    }
   },
   "outputs": [],
   "source": [
    "plt.plot(growth)"
   ]
  },
  {
   "cell_type": "code",
   "execution_count": null,
   "id": "ce2a38f7",
   "metadata": {
    "ExecuteTime": {
     "end_time": "2022-04-17T09:02:17.627866Z",
     "start_time": "2022-04-17T09:01:29.651524Z"
    }
   },
   "outputs": [],
   "source": [
    "N = np.arange(0, len(growth))\n",
    "with pm.Model() as model:\n",
    "    alpha = 1.0/signal.mean()\n",
    "    \n",
    "    lambda_1 = pm.Exponential(\"lambda_1\", alpha)\n",
    "    lambda_2 = pm.Exponential(\"lambda_2\", alpha)\n",
    "    lambda_3 = pm.Exponential(\"lambda_3\", alpha)\n",
    "\n",
    "    tau1 = pm.DiscreteUniform(\"tau1\", lower=N.min(), upper=N.max()) \n",
    "    tau2 = pm.DiscreteUniform(\"tau2\", lower=tau1, upper=N.max()) \n",
    "\n",
    "    _mu = T.switch(tau1>=N,lambda_1,lambda_2)\n",
    "    mu = T.switch(tau2>=N,_mu,lambda_3)\n",
    "\n",
    "    observation = pm.Poisson(\"obs\", mu, observed=signal)\n",
    "    trace = pm.sample(10000, tune=1000)"
   ]
  },
  {
   "cell_type": "code",
   "execution_count": null,
   "id": "6b750431",
   "metadata": {
    "ExecuteTime": {
     "end_time": "2022-04-17T09:07:19.895280Z",
     "start_time": "2022-04-17T09:07:19.890570Z"
    }
   },
   "outputs": [],
   "source": [
    "model.vars"
   ]
  },
  {
   "cell_type": "code",
   "execution_count": null,
   "id": "6d0b89a2",
   "metadata": {
    "ExecuteTime": {
     "end_time": "2022-04-17T09:02:31.503563Z",
     "start_time": "2022-04-17T09:02:19.246613Z"
    }
   },
   "outputs": [],
   "source": [
    "pm.plot_trace(trace);"
   ]
  },
  {
   "cell_type": "code",
   "execution_count": null,
   "id": "37319511",
   "metadata": {
    "ExecuteTime": {
     "end_time": "2022-04-17T09:02:45.205911Z",
     "start_time": "2022-04-17T09:02:39.219648Z"
    }
   },
   "outputs": [],
   "source": [
    "pm.summary(trace)"
   ]
  },
  {
   "cell_type": "code",
   "execution_count": null,
   "id": "3a3f2cfd",
   "metadata": {
    "ExecuteTime": {
     "end_time": "2022-04-17T09:02:48.421298Z",
     "start_time": "2022-04-17T09:02:47.946693Z"
    }
   },
   "outputs": [],
   "source": [
    "expected_vals = np.zeros((2, len(signal)))\n",
    "\n",
    "\n",
    "lambda_1_samples = trace['lambda_1']\n",
    "lambda_2_samples = trace['lambda_2']\n",
    "lambda_3_samples = trace['lambda_3']\n",
    "\n",
    "\n",
    "tau_samples_1 = trace['tau1']\n",
    "tau_samples_2 = trace['tau2']\n",
    "\n",
    "N = tau_samples_1.shape[0]\n",
    "\n",
    "for day in range(0, len(signal)):\n",
    "    # ix is a bool index of all tau samples corresponding to\n",
    "    # the switchpoint occurring prior to value of 'day'\n",
    "    ix1 = day < tau_samples_1\n",
    "    ix2 = day < tau_samples_2\n",
    "    # Each posterior sample corresponds to a value for tau.\n",
    "    # for each day, that value of tau indicates whether we're \"before\"\n",
    "    # (in the lambda1 \"regime\") or\n",
    "    #  \"after\" (in the lambda2 \"regime\") the switchpoint.\n",
    "    # by taking the posterior sample of lambda1/2 accordingly, we can average\n",
    "    # over all samples to get an expected value for lambda on that day.\n",
    "    # As explained, the \"message count\" random variable is Poisson distributed,\n",
    "    # and therefore lambda (the poisson parameter) is the expected value of\n",
    "    # \"message count\".\n",
    "    expected_vals[0][day] = (lambda_1_samples[ix1].sum()\n",
    "                                   + lambda_2_samples[~ix1].sum()) / N\n",
    "    \n",
    "    expected_vals[1][day] = (lambda_2_samples[ix2].sum()\n",
    "                                   + lambda_3_samples[~ix2].sum()) / N\n",
    "    \n",
    "expected_vals = np.median(expected_vals, axis=0)"
   ]
  },
  {
   "cell_type": "code",
   "execution_count": null,
   "id": "7253ba24",
   "metadata": {
    "ExecuteTime": {
     "end_time": "2022-04-17T09:02:56.419240Z",
     "start_time": "2022-04-17T09:02:56.309174Z"
    }
   },
   "outputs": [],
   "source": [
    "plt.plot(range(len(signal)), signal)\n",
    "plt.plot(range(len(signal)), expected_vals)\n"
   ]
  },
  {
   "cell_type": "code",
   "execution_count": null,
   "id": "0278cb45",
   "metadata": {},
   "outputs": [],
   "source": []
  }
 ],
 "metadata": {
  "interpreter": {
   "hash": "8f6fc6ebd13c35ead9c0652f20be32dadfd630866dbfd2e9f91a5d8b44c0611d"
  },
  "kernelspec": {
   "display_name": "Python 3.7.7 ('mando')",
   "language": "python",
   "name": "python3"
  },
  "language_info": {
   "codemirror_mode": {
    "name": "ipython",
    "version": 3
   },
   "file_extension": ".py",
   "mimetype": "text/x-python",
   "name": "python",
   "nbconvert_exporter": "python",
   "pygments_lexer": "ipython3",
   "version": "3.7.7"
  }
 },
 "nbformat": 4,
 "nbformat_minor": 5
}
