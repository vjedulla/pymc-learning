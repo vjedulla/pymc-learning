{
 "cells": [
  {
   "cell_type": "code",
   "execution_count": 1,
   "id": "1bcb38ee",
   "metadata": {
    "ExecuteTime": {
     "end_time": "2022-05-30T09:26:16.086718Z",
     "start_time": "2022-05-30T09:26:16.083099Z"
    }
   },
   "outputs": [
    {
     "name": "stderr",
     "output_type": "stream",
     "text": [
      "\n",
      "Bad key text.latex.unicode in file /Users/jetpackspare/opt/anaconda3/envs/mando/lib/python3.7/site-packages/matplotlib/mpl-data/stylelib/_classic_test.mplstyle, line 112 ('text.latex.unicode : False # use \"ucs\" and \"inputenc\" LaTeX packages for handling')\n",
      "You probably need to get an updated matplotlibrc file from\n",
      "https://github.com/matplotlib/matplotlib/blob/v3.4.3/matplotlibrc.template\n",
      "or from the matplotlib source distribution\n",
      "\n",
      "Bad key savefig.frameon in file /Users/jetpackspare/opt/anaconda3/envs/mando/lib/python3.7/site-packages/matplotlib/mpl-data/stylelib/_classic_test.mplstyle, line 423 ('savefig.frameon : True')\n",
      "You probably need to get an updated matplotlibrc file from\n",
      "https://github.com/matplotlib/matplotlib/blob/v3.4.3/matplotlibrc.template\n",
      "or from the matplotlib source distribution\n",
      "\n",
      "Bad key pgf.debug in file /Users/jetpackspare/opt/anaconda3/envs/mando/lib/python3.7/site-packages/matplotlib/mpl-data/stylelib/_classic_test.mplstyle, line 444 ('pgf.debug           : False')\n",
      "You probably need to get an updated matplotlibrc file from\n",
      "https://github.com/matplotlib/matplotlib/blob/v3.4.3/matplotlibrc.template\n",
      "or from the matplotlib source distribution\n",
      "\n",
      "Bad key verbose.level in file /Users/jetpackspare/opt/anaconda3/envs/mando/lib/python3.7/site-packages/matplotlib/mpl-data/stylelib/_classic_test.mplstyle, line 475 ('verbose.level  : silent      # one of silent, helpful, debug, debug-annoying')\n",
      "You probably need to get an updated matplotlibrc file from\n",
      "https://github.com/matplotlib/matplotlib/blob/v3.4.3/matplotlibrc.template\n",
      "or from the matplotlib source distribution\n",
      "\n",
      "Bad key verbose.fileo in file /Users/jetpackspare/opt/anaconda3/envs/mando/lib/python3.7/site-packages/matplotlib/mpl-data/stylelib/_classic_test.mplstyle, line 476 ('verbose.fileo  : sys.stdout  # a log filename, sys.stdout or sys.stderr')\n",
      "You probably need to get an updated matplotlibrc file from\n",
      "https://github.com/matplotlib/matplotlib/blob/v3.4.3/matplotlibrc.template\n",
      "or from the matplotlib source distribution\n",
      "In /Users/jetpackspare/opt/anaconda3/envs/mando/lib/python3.7/site-packages/matplotlib/mpl-data/stylelib/_classic_test.mplstyle: \n",
      "The text.latex.preview rcparam was deprecated in Matplotlib 3.3 and will be removed two minor releases later.\n",
      "In /Users/jetpackspare/opt/anaconda3/envs/mando/lib/python3.7/site-packages/matplotlib/mpl-data/stylelib/_classic_test.mplstyle: \n",
      "The mathtext.fallback_to_cm rcparam was deprecated in Matplotlib 3.3 and will be removed two minor releases later.\n",
      "In /Users/jetpackspare/opt/anaconda3/envs/mando/lib/python3.7/site-packages/matplotlib/mpl-data/stylelib/_classic_test.mplstyle: Support for setting the 'mathtext.fallback_to_cm' rcParam is deprecated since 3.3 and will be removed two minor releases later; use 'mathtext.fallback : 'cm' instead.\n",
      "In /Users/jetpackspare/opt/anaconda3/envs/mando/lib/python3.7/site-packages/matplotlib/mpl-data/stylelib/_classic_test.mplstyle: \n",
      "The validate_bool_maybe_none function was deprecated in Matplotlib 3.3 and will be removed two minor releases later.\n",
      "In /Users/jetpackspare/opt/anaconda3/envs/mando/lib/python3.7/site-packages/matplotlib/mpl-data/stylelib/_classic_test.mplstyle: \n",
      "The savefig.jpeg_quality rcparam was deprecated in Matplotlib 3.3 and will be removed two minor releases later.\n",
      "In /Users/jetpackspare/opt/anaconda3/envs/mando/lib/python3.7/site-packages/matplotlib/mpl-data/stylelib/_classic_test.mplstyle: \n",
      "The keymap.all_axes rcparam was deprecated in Matplotlib 3.3 and will be removed two minor releases later.\n",
      "In /Users/jetpackspare/opt/anaconda3/envs/mando/lib/python3.7/site-packages/matplotlib/mpl-data/stylelib/_classic_test.mplstyle: \n",
      "The animation.avconv_path rcparam was deprecated in Matplotlib 3.3 and will be removed two minor releases later.\n",
      "In /Users/jetpackspare/opt/anaconda3/envs/mando/lib/python3.7/site-packages/matplotlib/mpl-data/stylelib/_classic_test.mplstyle: \n",
      "The animation.avconv_args rcparam was deprecated in Matplotlib 3.3 and will be removed two minor releases later.\n"
     ]
    }
   ],
   "source": [
    "import opensimplex as sim\n",
    "import matplotlib.pyplot as plt\n",
    "import numpy as np\n",
    "import itertools as it\n",
    "from PIL import Image \n",
    "\n",
    "plt.rcParams['figure.figsize'] = (10, 10)"
   ]
  },
  {
   "cell_type": "code",
   "execution_count": null,
   "id": "ae3c242a",
   "metadata": {
    "ExecuteTime": {
     "end_time": "2022-05-30T09:30:08.035164Z",
     "start_time": "2022-05-30T09:30:07.866462Z"
    }
   },
   "outputs": [],
   "source": [
    "n = 100\n",
    "\n",
    "\n",
    "WIDTH = 256\n",
    "HEIGHT = 256\n",
    "FEATURE_SIZE = 2.0\n",
    "\n",
    "im = Image.new('L', (WIDTH, HEIGHT))\n",
    "for y in range(0, HEIGHT):\n",
    "    for x in range(0, WIDTH):\n",
    "        value = sim.noise2(x / FEATURE_SIZE, y / FEATURE_SIZE)\n",
    "        color = int((value + 1) * 128)\n",
    "        im.putpixel((x, y), color)\n",
    "\n",
    "\n",
    "x1 = np.random.randint(0, WIDTH, 2)\n",
    "x2 = np.random.randint(0, HEIGHT, 2)\n",
    "\n",
    "diff = x1 - x2\n",
    "x1, x2, diff"
   ]
  },
  {
   "cell_type": "code",
   "execution_count": null,
   "id": "7a7fd9e7",
   "metadata": {
    "ExecuteTime": {
     "end_time": "2022-05-30T09:30:08.184769Z",
     "start_time": "2022-05-30T09:30:08.174897Z"
    }
   },
   "outputs": [],
   "source": [
    "def construct(diff_ops, x1):\n",
    "    x1tmp = x1.copy()\n",
    "    ops = []\n",
    "    for t in diff_ops:\n",
    "        x1tmp += (t*-1)\n",
    "        ops.append(x1tmp.copy())\n",
    "        \n",
    "    return np.array(ops)\n",
    "    \n",
    "def find_direction(x1, x2):\n",
    "    diff = x1 - x2\n",
    "    \n",
    "    u = np.array([0, 1])\n",
    "    d = np.array([0, -1])\n",
    "    l = np.array([-1, 0])\n",
    "    r = np.array([1, 0])\n",
    "    \n",
    "    xcom = np.array([diff[0], 0])\n",
    "    ycom = np.array([0, diff[1]])\n",
    "    \n",
    "    name_x = []\n",
    "    opsx = []\n",
    "    name_y = []\n",
    "    ospy = []\n",
    "                \n",
    "    if sum(xcom + ((abs(xcom[0]) * l)) * -1) == 0:\n",
    "        name_x = ['left'] * abs(xcom[0])\n",
    "        opsx = [l for x in range(abs(xcom[0]))]\n",
    "    else:\n",
    "        name_x = ['right'] * abs(xcom[0])\n",
    "        opsx = [r for x in range(abs(xcom[0]))]\n",
    "        \n",
    "    if sum(ycom + ((abs(ycom[1]) * u)) * -1) == 0:\n",
    "        name_y = ['up'] * abs(ycom[1])\n",
    "        opsy = [u for x in range(abs(ycom[1]))]\n",
    "    else:\n",
    "        name_y = ['down'] * abs(ycom[1])\n",
    "        opsy = [d for x in range(abs(ycom[1]))]\n",
    "        \n",
    "    ops = construct(opsx + opsy, x1)\n",
    "\n",
    "    return name_x + name_y, ops, np.array(opsx + opsy)\n",
    "        "
   ]
  },
  {
   "cell_type": "code",
   "execution_count": null,
   "id": "6ffc55cc",
   "metadata": {
    "ExecuteTime": {
     "end_time": "2022-05-30T09:30:08.526624Z",
     "start_time": "2022-05-30T09:30:08.521209Z"
    }
   },
   "outputs": [],
   "source": [
    "names, base_ops, diff_ops = find_direction(x1, x2)\n",
    "# diff_ops"
   ]
  },
  {
   "cell_type": "code",
   "execution_count": null,
   "id": "5f6d7843",
   "metadata": {
    "ExecuteTime": {
     "end_time": "2022-05-30T09:30:21.611368Z",
     "start_time": "2022-05-30T09:30:21.343406Z"
    }
   },
   "outputs": [],
   "source": [
    "plt.scatter([x1[0], x2[0]], [x1[1], x2[1]], c='red')\n",
    "\n",
    "plt.text(x1[0] + 10, x1[1] + 10, 'X1', c='red', backgroundcolor='white')\n",
    "plt.text(x2[0] + 10, x2[1] + 10, 'X2', c='red', backgroundcolor='white')\n",
    "\n",
    "# plt.scatter(ops[:, 0], ops[:, 1], c='blue', s=5)\n",
    "\n",
    "ops_alt = diff_ops.copy()\n",
    "np.random.shuffle(ops_alt)\n",
    "ops_alt = construct(ops_alt, x1)\n",
    "plt.scatter(ops_alt[:, 0], ops_alt[:, 1], c='blue', s=5, alpha=0.5)\n",
    "\n",
    "ops_back = diff_ops.copy()\n",
    "np.random.shuffle(ops_back)\n",
    "ops_back = construct(ops_back, x1)\n",
    "# print(ops_back)\n",
    "plt.scatter(ops_back[:, 0], ops_back[:, 1], c='red', s=5, alpha=0.5)\n",
    "\n",
    "\n",
    "# plt.plot((x1[0], x2[0]), (x1[1], x1[1]), c='red')\n",
    "# plt.plot((x2[0], x2[0]), (x2[1], x1[1]), c='red')\n",
    "\n",
    "plt.imshow(im, cmap='gray', origin='lower')"
   ]
  },
  {
   "cell_type": "code",
   "execution_count": null,
   "id": "87f0baef",
   "metadata": {},
   "outputs": [],
   "source": []
  }
 ],
 "metadata": {
  "interpreter": {
   "hash": "8f6fc6ebd13c35ead9c0652f20be32dadfd630866dbfd2e9f91a5d8b44c0611d"
  },
  "kernelspec": {
   "display_name": "Python 3.7.7 ('mando')",
   "language": "python",
   "name": "python3"
  },
  "language_info": {
   "codemirror_mode": {
    "name": "ipython",
    "version": 3
   },
   "file_extension": ".py",
   "mimetype": "text/x-python",
   "name": "python",
   "nbconvert_exporter": "python",
   "pygments_lexer": "ipython3",
   "version": "3.7.7"
  }
 },
 "nbformat": 4,
 "nbformat_minor": 5
}
