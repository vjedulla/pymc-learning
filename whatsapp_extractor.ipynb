{
 "cells": [
  {
   "cell_type": "code",
   "execution_count": null,
   "metadata": {},
   "outputs": [],
   "source": [
    "import pandas as pd\n",
    "import numpy as np\n",
    "import re\n",
    "from datetime import datetime\n",
    "import matplotlib.pyplot as plt"
   ]
  },
  {
   "cell_type": "code",
   "execution_count": null,
   "metadata": {},
   "outputs": [],
   "source": [
    "fp = open('data/raw.txt', 'r', encoding='utf-8', errors='ignore')\n",
    "texts = fp.readlines()"
   ]
  },
  {
   "cell_type": "code",
   "execution_count": null,
   "metadata": {},
   "outputs": [],
   "source": [
    "texts[:5]"
   ]
  },
  {
   "cell_type": "code",
   "execution_count": null,
   "metadata": {},
   "outputs": [],
   "source": [
    "def clean_line(line):\n",
    "    pattern = '\\[(\\d{2}\\/\\d{2}\\/\\d{4}), (\\d{2}\\:\\d{2}\\:\\d{2})\\]\\s(?:([^\\:]*)\\:(.*)|(.*))'\n",
    "    \n",
    "    line = re.sub('\\u200e', '', line)\n",
    "    \n",
    "    m = re.match(pattern, line)\n",
    "    \n",
    "    if m is None:\n",
    "        return None, None, None, None\n",
    "    \n",
    "    date = m.group(1)\n",
    "    time = m.group(2)\n",
    "    \n",
    "    event = False\n",
    "    sender = None\n",
    "    msg = None\n",
    "    \n",
    "    \n",
    "    if m.group(3):\n",
    "        sender = m.group(3)\n",
    "        msg = m.group(4).strip()\n",
    "    else:\n",
    "        event = True\n",
    "    \n",
    "    dd = datetime.strptime(str(date) + \" \" + str(time), '%d/%m/%Y %H:%M:%S')\n",
    "    \n",
    "    return (dd, event, sender, msg)"
   ]
  },
  {
   "cell_type": "code",
   "execution_count": null,
   "metadata": {},
   "outputs": [],
   "source": [
    "df = pd.DataFrame(data=list(map(clean_line, texts)), columns=['date', 'event', 'sender', 'msg'])"
   ]
  },
  {
   "cell_type": "code",
   "execution_count": null,
   "metadata": {},
   "outputs": [],
   "source": [
    "df"
   ]
  },
  {
   "cell_type": "code",
   "execution_count": null,
   "metadata": {},
   "outputs": [],
   "source": [
    "df = df.dropna(thresh=3, axis=0)"
   ]
  },
  {
   "cell_type": "code",
   "execution_count": null,
   "metadata": {},
   "outputs": [],
   "source": [
    "df = df.drop(['event'], axis=1)"
   ]
  },
  {
   "cell_type": "code",
   "execution_count": null,
   "metadata": {},
   "outputs": [],
   "source": [
    "df_g = df.set_index('date').groupby(pd.Grouper(freq='D')).count()"
   ]
  },
  {
   "cell_type": "code",
   "execution_count": null,
   "metadata": {},
   "outputs": [],
   "source": [
    "df_g = df_g[df_g['sender'] != 0]"
   ]
  },
  {
   "cell_type": "code",
   "execution_count": null,
   "metadata": {},
   "outputs": [],
   "source": [
    "df_g"
   ]
  },
  {
   "cell_type": "code",
   "execution_count": null,
   "metadata": {},
   "outputs": [],
   "source": [
    "fig = plt.figure(figsize=(12, 8))\n",
    "plt.bar(df_g.index, df_g['sender'])\n",
    "plt.xticks(rotation=90)"
   ]
  },
  {
   "cell_type": "code",
   "execution_count": null,
   "metadata": {},
   "outputs": [],
   "source": [
    "df_g.to_csv('data/processed_nacut.csv')"
   ]
  },
  {
   "cell_type": "code",
   "execution_count": null,
   "metadata": {},
   "outputs": [],
   "source": []
  }
 ],
 "metadata": {
  "interpreter": {
   "hash": "8f6fc6ebd13c35ead9c0652f20be32dadfd630866dbfd2e9f91a5d8b44c0611d"
  },
  "kernelspec": {
   "display_name": "Python 3 (ipykernel)",
   "language": "python",
   "name": "python3"
  },
  "language_info": {
   "codemirror_mode": {
    "name": "ipython",
    "version": 3
   },
   "file_extension": ".py",
   "mimetype": "text/x-python",
   "name": "python",
   "nbconvert_exporter": "python",
   "pygments_lexer": "ipython3",
   "version": "3.10.8"
  }
 },
 "nbformat": 4,
 "nbformat_minor": 2
}
